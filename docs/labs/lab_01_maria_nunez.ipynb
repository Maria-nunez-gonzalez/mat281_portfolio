{
  "cells": [
    {
      "cell_type": "markdown",
      "id": "e2696553",
      "metadata": {
        "id": "e2696553"
      },
      "source": [
        "<a href=\"https://colab.research.google.com/github/fralfaro/MAT281_2023/blob/main/docs/labs/lab_01.ipynb\" target=\"_parent\"><img src=\"https://colab.research.google.com/assets/colab-badge.svg\" alt=\"Open In Colab\"/></a>\n",
        "\n",
        "\n",
        "# MAT281 - Laboratorio N°01\n"
      ]
    },
    {
      "cell_type": "markdown",
      "id": "a869ace0",
      "metadata": {
        "id": "a869ace0"
      },
      "source": [
        "## Problema 01\n",
        "\n",
        "En los siglos XVII y XVIII, James Gregory y Gottfried Leibniz descubrieron una serie infinita que sirve para calcular $\\pi$:\n",
        "\n",
        "$$\\displaystyle \\pi = 4 \\sum_{k=1}^{\\infty}\\dfrac{(-1)^{k+1}}{2k-1} = 4(1-\\dfrac{1}{3}+\\dfrac{1}{5}-\\dfrac{1}{7} + ...) $$\n",
        "\n",
        "Desarolle un programa para estimar el valor de $\\pi$ ocupando el método de Leibniz, donde la entrada del programa debe ser un número entero $n$ que indique cuántos términos de la suma se utilizará.\n",
        "\n",
        "\n",
        "* **Ejemplo**:\n",
        "    * *calcular_pi(3)* = 3.466666666666667\n",
        "    * *calcular_pi(1000)* = 3.140592653839794"
      ]
    },
    {
      "cell_type": "code",
      "execution_count": 26,
      "id": "dd54e855",
      "metadata": {
        "colab": {
          "base_uri": "https://localhost:8080/"
        },
        "id": "dd54e855",
        "outputId": "c43c9a31-08a9-417d-fa46-637b7a3ba5cd"
      },
      "outputs": [
        {
          "output_type": "stream",
          "name": "stdout",
          "text": [
            "3.466666666666667\n",
            "3.140592653839794\n"
          ]
        }
      ],
      "source": [
        "\n",
        "def calcular_pi(n):\n",
        "  sum= 0;\n",
        "  for i in range(1,n+1):\n",
        "    sum = sum+((-1)**(i+1))/(2*i-1);\n",
        "  return 4*sum\n",
        "pi_1=calcular_pi(3);\n",
        "pi_2=calcular_pi(1000);\n",
        "\n",
        "#Ejemplos:\n",
        "print(pi_1)\n",
        "print(pi_2)"
      ]
    },
    {
      "cell_type": "markdown",
      "id": "c26be634",
      "metadata": {
        "id": "c26be634"
      },
      "source": [
        "## Problema 02\n",
        "\n",
        "Euler realizó varios aportes en relación a $e$, pero no fue hasta 1748 cuando publicó su **Introductio in analysin infinitorum** que dio un tratamiento definitivo a las ideas sobre $e$. Allí mostró que:\n",
        "\n",
        "\n",
        "En los siglos XVII y XVIII, James Gregory y Gottfried Leibniz descubrieron una serie infinita que sirve para calcular π:\n",
        "\n",
        "$$\\displaystyle e = \\sum_{k=0}^{\\infty}\\dfrac{1}{k!} = 1+\\dfrac{1}{2!}+\\dfrac{1}{3!}+\\dfrac{1}{4!} + ... $$\n",
        "\n",
        "Desarolle un programa para estimar el valor de $e$ ocupando el método de Euler, donde la entrada del programa debe ser un número entero $n$ que indique cuántos términos de la suma se utilizará.\n",
        "\n",
        "Para esto:\n",
        "\n",
        "* a) Defina la función `factorial`, donde la entrada sea un número natural  $n$ y la salida sea el factorial de dicho número.\n",
        "    * **Ejemplo**: *factorial(3)* =3, *factorial(5)* = 120\n",
        "    \n",
        "    \n",
        "* b) Ocupe la función `factorial` dentro de la función `calcular_e`.     \n",
        "    * **Ejemplo**: *calcular_e(3)* = 2.6666666666666665, *calcular_e(1000)* = 2.7182818284590455"
      ]
    },
    {
      "cell_type": "code",
      "execution_count": 28,
      "id": "706d4c0a",
      "metadata": {
        "colab": {
          "base_uri": "https://localhost:8080/"
        },
        "id": "706d4c0a",
        "outputId": "e0d5e420-3dab-4e82-b31a-96634cdb2ee0"
      },
      "outputs": [
        {
          "output_type": "stream",
          "name": "stdout",
          "text": [
            "2.6666666666666665\n",
            "2.7182818284590455\n"
          ]
        }
      ],
      "source": [
        "#a)\n",
        "def factorial(n):\n",
        "  mult=1;\n",
        "  for i in range(1, n+1):\n",
        "   mult=mult*i;\n",
        "  return mult\n",
        "fac=factorial(0);\n",
        "\n",
        "#b)\n",
        "def calcular_e(n):\n",
        "  sum=1;\n",
        "  for i in range(1, n+1):\n",
        "    sum=sum+(1/factorial(i));\n",
        "  return sum\n",
        "e_1=calcular_e(3);\n",
        "e_2=calcular_e(1000);\n",
        "\n",
        "#Ejemplos:\n",
        "print(e_1)\n",
        "print(e_2)"
      ]
    },
    {
      "cell_type": "markdown",
      "id": "9707be93",
      "metadata": {
        "id": "9707be93"
      },
      "source": [
        "## Problema 03\n",
        "\n",
        "Sea $\\sigma(n)$ definido como la suma de los divisores propios de $n$ (números menores que n que se dividen en $n$).\n",
        "\n",
        "Los [números amigos](https://en.wikipedia.org/wiki/Amicable_numbers) son  enteros positivos $n_1$ y $n_2$ tales que la suma de los divisores propios de uno es igual al otro número y viceversa, es decir, $\\sigma(n_1)=\\sigma(n_2)$ y $\\sigma(n_2)=\\sigma(n_1)$.\n",
        "\n",
        "\n",
        "Por ejemplo, los números 220 y 284 son números amigos.\n",
        "* los divisores propios de 220 son 1, 2, 4, 5, 10, 11, 20, 22, 44, 55 y 110; por lo tanto $\\sigma(220) = 284$.\n",
        "* los divisores propios de 284 son 1, 2, 4, 71 y 142; entonces $\\sigma(284) = 220$.\n",
        "\n",
        "\n",
        "Implemente una función llamada `amigos` cuyo input sean dos números naturales $n_1$ y $n_2$, cuyo output sea verifique si los números son amigos o no.\n",
        "\n",
        "Para esto:\n",
        "\n",
        "* a) Defina la función `divisores_propios`, donde la entrada sea un número natural $n$ y la salida sea una lista con los divisores propios de dicho número.\n",
        "    * **Ejemplo**: *divisores_propios(220)* = [1, 2, 4, 5, 10, 11, 20, 22, 44, 55 y 110], *divisores_propios(284)* = [1, 2, 4, 71 y 142]\n",
        "    \n",
        "    \n",
        "* b) Ocupe la función `divisores_propios` dentro de la función `amigos`.\n",
        "\n",
        "    * **Ejemplo**: *amigos(220,284)* = True, *amigos(6,5)* = False"
      ]
    },
    {
      "cell_type": "code",
      "execution_count": 49,
      "id": "e695ea21",
      "metadata": {
        "colab": {
          "base_uri": "https://localhost:8080/"
        },
        "id": "e695ea21",
        "outputId": "8da9ccf1-b491-475e-c069-83d92dfc4acd"
      },
      "outputs": [
        {
          "output_type": "stream",
          "name": "stdout",
          "text": [
            "True\n",
            "False\n"
          ]
        }
      ],
      "source": [
        "#a)\n",
        "def divisores_propios(n):\n",
        "  list = []\n",
        "  for i in range(1,n):\n",
        "    if n%i==0:\n",
        "      list.append(i)\n",
        "  return list\n",
        "\n",
        "#b)\n",
        "def amigos(n_1,n_2):\n",
        "  list_n_1=divisores_propios(n_1);\n",
        "  list_n_2=divisores_propios(n_2);\n",
        "  n_11=0;\n",
        "  n_21=0;\n",
        "  for i in range(0,len(list_n_1) ):\n",
        "    n_11=n_11+list_n_1[i]\n",
        "  for i in range(0,len(list_n_2)):\n",
        "    n_21=n_21+list_n_2[i]\n",
        "  return (n_21==n_1 and n_11==n_2)\n",
        "a_1=amigos(220,284);\n",
        "a_2=amigos(5,6);\n",
        "\n",
        "#Ejemplos:\n",
        "print(a_1)\n",
        "print(a_2)\n",
        "\n"
      ]
    },
    {
      "cell_type": "markdown",
      "id": "cf93a039",
      "metadata": {
        "id": "cf93a039"
      },
      "source": [
        "## Problema 04\n",
        "\n",
        "La [conjetura de Collatz](https://en.wikipedia.org/wiki/Collatz_conjecture), conocida también como conjetura $3n+1$ o conjetura de Ulam (entre otros nombres), fue enunciada por el matemático Lothar Collatz en 1937, y a la fecha no se ha resuelto.\n",
        "\n",
        "Sea la siguiente operación, aplicable a cualquier número entero positivo:\n",
        "* Si el número es par, se divide entre 2.\n",
        "* Si el número es impar, se multiplica por 3 y se suma 1.\n",
        "\n",
        "La conjetura dice que siempre alcanzaremos el 1 (y por tanto el ciclo 4, 2, 1) para cualquier número con el que comencemos.\n",
        "\n",
        "Implemente una función llamada `collatz` cuyo input sea un número natural positivo $N$ y como output devulva la secuencia de números hasta llegar a 1.\n",
        "\n",
        "* **Ejemplo**: *collatz(9)* = [9, 28, 14, 7, 22, 11, 34, 17, 52, 26, 13, 40, 20, 10, 5, 16, 8, 4, 2, 1]"
      ]
    },
    {
      "cell_type": "code",
      "execution_count": 67,
      "id": "10501a00",
      "metadata": {
        "colab": {
          "base_uri": "https://localhost:8080/"
        },
        "id": "10501a00",
        "outputId": "b264a3b0-3ff5-4cc2-a3eb-fbcbae8c75ef"
      },
      "outputs": [
        {
          "output_type": "stream",
          "name": "stdout",
          "text": [
            "[9, 28, 14, 7, 22, 11, 34, 17, 52, 26, 13, 40, 20, 10, 5, 16, 8, 4, 2, 1]\n"
          ]
        }
      ],
      "source": [
        "def collatz(N):\n",
        "  list=[];\n",
        "  list.append(N);\n",
        "  while N!= 1:\n",
        "    if N%2==0:\n",
        "      N=N/2;\n",
        "      list.append(int(N));\n",
        "    else:\n",
        "     N=N*3 +1;\n",
        "     list.append(int(N));\n",
        "  return list\n",
        "c=collatz(9);\n",
        "\n",
        "#Ejemplo:\n",
        "print(c)"
      ]
    },
    {
      "cell_type": "markdown",
      "id": "d15af4eb",
      "metadata": {
        "id": "d15af4eb"
      },
      "source": [
        "## Problema 05\n",
        "La [conjetura de Goldbach](https://en.wikipedia.org/wiki/Goldbach%27s_conjecture) es uno de los problemas abiertos más antiguos en matemáticas. Concretamente, G.H. Hardy, en 1921, en su famoso discurso pronunciado en la Sociedad Matemática de Copenhague, comentó que probablemente la conjetura de Goldbach no es solo uno de los problemas no resueltos más difíciles de la teoría de números, sino de todas las matemáticas. Su enunciado es el siguiente:\n",
        "\n",
        "> Todo número par mayor que 2 puede escribirse como suma de dos números primos - Christian Goldbach (1742)\n",
        "\n",
        "Implemente una función llamada `goldbach` cuyo input sea un número natural positivo $n$ y como output devuelva la suma de dos primos ($n_1$ y $n_2$) tal que: $n_1+n_2=n$.\n",
        "\n",
        "Para esto:\n",
        "\n",
        "* a) Defina la función `es_primo`, donde la entrada sea un número natural $n$ y la salida sea **True** si el número es primo y **False** en otro caso.\n",
        "    * **Ejemplo**: *es_primo(3)* = True, *es_primo(4)* = False\n",
        "    \n",
        "    \n",
        "* b)  Defina la función `lista_de_primos`, donde la entrada sea un número natural par $n$ mayor que dos y la salida sea una lista con todos los número primos entre 2 y $n$.\n",
        "    * **Ejemplo**: *lista_de_primos(4)* = [2,3], *lista_de_primos(6)* = [2,3,5], *lista_de_primos(8)* = [2,3,5,7]\n",
        "\n",
        "\n",
        "* c) Ocupe la función `lista_de_primos` dentro de la función `goldbash`.\n",
        " * **Ejemplo**: goldbash(4) = (2,2), goldbash(6) = (3,3) , goldbash(8) = (3,5)"
      ]
    },
    {
      "cell_type": "code",
      "execution_count": 157,
      "id": "cccb4ae0",
      "metadata": {
        "colab": {
          "base_uri": "https://localhost:8080/"
        },
        "id": "cccb4ae0",
        "outputId": "d6923e5f-f112-4609-f5d5-efe8990ff77d"
      },
      "outputs": [
        {
          "output_type": "stream",
          "name": "stdout",
          "text": [
            "(2, 2)\n",
            "(3, 3)\n",
            "(3, 5)\n",
            "Se tienen los siguientes pares de números primos que satisfacen:\n",
            "[(3, 7), (5, 5)]\n"
          ]
        }
      ],
      "source": [
        "#a)\n",
        "def es_primo(n):\n",
        "  cont=0;\n",
        "  for i in range(1, n+1):\n",
        "    if n%i==0:\n",
        "      cont+=1;\n",
        "  if cont==2:\n",
        "    return(True)\n",
        "  else:\n",
        "    return(False)\n",
        "\n",
        "#b)\n",
        "def lista_de_primos(n):\n",
        "  if n>2:\n",
        "    list=[];\n",
        "    for i in range(2, n+1):\n",
        "      if True==es_primo(i):\n",
        "        list.append(i);\n",
        "    return list\n",
        "\n",
        "#c)\n",
        "def goldbash(n):\n",
        "  list=[]\n",
        "  list_n=lista_de_primos(n);\n",
        "  n_1=0;\n",
        "  for i in range(0,len(list_n) ):\n",
        "    for j in  range(0,len(list_n)):\n",
        "      if list_n[i]+list_n[j]==n:\n",
        "        if list_n[i]<=n/2:\n",
        "         list.append((list_n[i],list_n[j]));\n",
        "  if len(list)==1:\n",
        "    return (list[0][0],list[0][1])\n",
        "  else:\n",
        "    print(\"Se tienen los siguientes pares de números primos que satisfacen:\")\n",
        "    return list\n",
        "\n",
        "#Ejemplos:\n",
        "c_1=goldbash(4);\n",
        "c_2=goldbash(6);\n",
        "c_3=goldbash(8);\n",
        "print(c_1)\n",
        "print(c_2)\n",
        "print(c_3)\n",
        "c_4=goldbash(10);\n",
        "print(c_4)"
      ]
    }
  ],
  "metadata": {
    "kernelspec": {
      "display_name": "Python 3 (ipykernel)",
      "language": "python",
      "name": "python3"
    },
    "language_info": {
      "codemirror_mode": {
        "name": "ipython",
        "version": 3
      },
      "file_extension": ".py",
      "mimetype": "text/x-python",
      "name": "python",
      "nbconvert_exporter": "python",
      "pygments_lexer": "ipython3",
      "version": "3.8.10"
    },
    "colab": {
      "provenance": []
    }
  },
  "nbformat": 4,
  "nbformat_minor": 5
}